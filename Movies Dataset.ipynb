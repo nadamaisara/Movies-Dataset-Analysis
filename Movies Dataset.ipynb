{
 "cells": [
  {
   "cell_type": "markdown",
   "id": "6f60438f",
   "metadata": {},
   "source": [
    "## EDA on Movies Dataset"
   ]
  },
  {
   "cell_type": "markdown",
   "id": "b7b8040d",
   "metadata": {},
   "source": [
    "## Dataset Description\n",
    "The dataset contains information on 9000+ movies fetched using the TMDB API and cleaned using pandas and numpy libraries."
   ]
  },
  {
   "cell_type": "markdown",
   "id": "e5d06416",
   "metadata": {},
   "source": [
    "## Columns Description:\n",
    "\n",
    "-Release_Date: Date when the movie was released.\n",
    "\n",
    "-Title: Name of the movie.\n",
    "\n",
    "-Overview: Brief summary of the movie.\n",
    "\n",
    "-Popularity: It is a very important metric computed by TMDB developers based on the number of views per day, votes per day, number of users marked it as \"favorite\" and \"watchlist\" for the data, release date and more other metrics.\n",
    "\n",
    "-Vote_Count: Total votes received from the viewers.\n",
    "\n",
    "-Vote_Average: Average rating based on vote count and the number of viewers out of 10.\n",
    "\n",
    "-Original_Language: Original language of the movies. Dubbed version is not considered to be original language. \n",
    "\n",
    "-Genre: Categories the movie it can be classified as.\n",
    "\n",
    "-Poster_Url: Url of the movie poster."
   ]
  },
  {
   "cell_type": "code",
   "execution_count": 1,
   "id": "1afbe761",
   "metadata": {},
   "outputs": [],
   "source": [
    "import pandas as pd\n",
    "import numpy as np\n",
    "import matplotlib.pyplot as plt\n",
    "import seaborn as sns\n",
    "%matplotlib inline"
   ]
  },
  {
   "cell_type": "code",
   "execution_count": 2,
   "id": "dfcec75b",
   "metadata": {},
   "outputs": [],
   "source": [
    "df=pd.read_csv(\"mymoviedb.csv\",lineterminator='\\n')"
   ]
  },
  {
   "cell_type": "code",
   "execution_count": 3,
   "id": "62cce79f",
   "metadata": {},
   "outputs": [
    {
     "data": {
      "text/html": [
       "<div>\n",
       "<style scoped>\n",
       "    .dataframe tbody tr th:only-of-type {\n",
       "        vertical-align: middle;\n",
       "    }\n",
       "\n",
       "    .dataframe tbody tr th {\n",
       "        vertical-align: top;\n",
       "    }\n",
       "\n",
       "    .dataframe thead th {\n",
       "        text-align: right;\n",
       "    }\n",
       "</style>\n",
       "<table border=\"1\" class=\"dataframe\">\n",
       "  <thead>\n",
       "    <tr style=\"text-align: right;\">\n",
       "      <th></th>\n",
       "      <th>Release_Date</th>\n",
       "      <th>Title</th>\n",
       "      <th>Overview</th>\n",
       "      <th>Popularity</th>\n",
       "      <th>Vote_Count</th>\n",
       "      <th>Vote_Average</th>\n",
       "      <th>Original_Language</th>\n",
       "      <th>Genre</th>\n",
       "      <th>Poster_Url</th>\n",
       "    </tr>\n",
       "  </thead>\n",
       "  <tbody>\n",
       "    <tr>\n",
       "      <th>0</th>\n",
       "      <td>2021-12-15</td>\n",
       "      <td>Spider-Man: No Way Home</td>\n",
       "      <td>Peter Parker is unmasked and no longer able to...</td>\n",
       "      <td>5083.954</td>\n",
       "      <td>8940</td>\n",
       "      <td>8.3</td>\n",
       "      <td>en</td>\n",
       "      <td>Action, Adventure, Science Fiction</td>\n",
       "      <td>https://image.tmdb.org/t/p/original/1g0dhYtq4i...</td>\n",
       "    </tr>\n",
       "    <tr>\n",
       "      <th>1</th>\n",
       "      <td>2022-03-01</td>\n",
       "      <td>The Batman</td>\n",
       "      <td>In his second year of fighting crime, Batman u...</td>\n",
       "      <td>3827.658</td>\n",
       "      <td>1151</td>\n",
       "      <td>8.1</td>\n",
       "      <td>en</td>\n",
       "      <td>Crime, Mystery, Thriller</td>\n",
       "      <td>https://image.tmdb.org/t/p/original/74xTEgt7R3...</td>\n",
       "    </tr>\n",
       "    <tr>\n",
       "      <th>2</th>\n",
       "      <td>2022-02-25</td>\n",
       "      <td>No Exit</td>\n",
       "      <td>Stranded at a rest stop in the mountains durin...</td>\n",
       "      <td>2618.087</td>\n",
       "      <td>122</td>\n",
       "      <td>6.3</td>\n",
       "      <td>en</td>\n",
       "      <td>Thriller</td>\n",
       "      <td>https://image.tmdb.org/t/p/original/vDHsLnOWKl...</td>\n",
       "    </tr>\n",
       "    <tr>\n",
       "      <th>3</th>\n",
       "      <td>2021-11-24</td>\n",
       "      <td>Encanto</td>\n",
       "      <td>The tale of an extraordinary family, the Madri...</td>\n",
       "      <td>2402.201</td>\n",
       "      <td>5076</td>\n",
       "      <td>7.7</td>\n",
       "      <td>en</td>\n",
       "      <td>Animation, Comedy, Family, Fantasy</td>\n",
       "      <td>https://image.tmdb.org/t/p/original/4j0PNHkMr5...</td>\n",
       "    </tr>\n",
       "    <tr>\n",
       "      <th>4</th>\n",
       "      <td>2021-12-22</td>\n",
       "      <td>The King's Man</td>\n",
       "      <td>As a collection of history's worst tyrants and...</td>\n",
       "      <td>1895.511</td>\n",
       "      <td>1793</td>\n",
       "      <td>7.0</td>\n",
       "      <td>en</td>\n",
       "      <td>Action, Adventure, Thriller, War</td>\n",
       "      <td>https://image.tmdb.org/t/p/original/aq4Pwv5Xeu...</td>\n",
       "    </tr>\n",
       "  </tbody>\n",
       "</table>\n",
       "</div>"
      ],
      "text/plain": [
       "  Release_Date                    Title  \\\n",
       "0   2021-12-15  Spider-Man: No Way Home   \n",
       "1   2022-03-01               The Batman   \n",
       "2   2022-02-25                  No Exit   \n",
       "3   2021-11-24                  Encanto   \n",
       "4   2021-12-22           The King's Man   \n",
       "\n",
       "                                            Overview  Popularity  Vote_Count  \\\n",
       "0  Peter Parker is unmasked and no longer able to...    5083.954        8940   \n",
       "1  In his second year of fighting crime, Batman u...    3827.658        1151   \n",
       "2  Stranded at a rest stop in the mountains durin...    2618.087         122   \n",
       "3  The tale of an extraordinary family, the Madri...    2402.201        5076   \n",
       "4  As a collection of history's worst tyrants and...    1895.511        1793   \n",
       "\n",
       "   Vote_Average Original_Language                               Genre  \\\n",
       "0           8.3                en  Action, Adventure, Science Fiction   \n",
       "1           8.1                en            Crime, Mystery, Thriller   \n",
       "2           6.3                en                            Thriller   \n",
       "3           7.7                en  Animation, Comedy, Family, Fantasy   \n",
       "4           7.0                en    Action, Adventure, Thriller, War   \n",
       "\n",
       "                                          Poster_Url  \n",
       "0  https://image.tmdb.org/t/p/original/1g0dhYtq4i...  \n",
       "1  https://image.tmdb.org/t/p/original/74xTEgt7R3...  \n",
       "2  https://image.tmdb.org/t/p/original/vDHsLnOWKl...  \n",
       "3  https://image.tmdb.org/t/p/original/4j0PNHkMr5...  \n",
       "4  https://image.tmdb.org/t/p/original/aq4Pwv5Xeu...  "
      ]
     },
     "execution_count": 3,
     "metadata": {},
     "output_type": "execute_result"
    }
   ],
   "source": [
    "df.head()"
   ]
  },
  {
   "cell_type": "code",
   "execution_count": 4,
   "id": "3362a38c",
   "metadata": {},
   "outputs": [
    {
     "data": {
      "text/plain": [
       "(9827, 9)"
      ]
     },
     "execution_count": 4,
     "metadata": {},
     "output_type": "execute_result"
    }
   ],
   "source": [
    "df.shape"
   ]
  },
  {
   "cell_type": "code",
   "execution_count": 5,
   "id": "927c83e0",
   "metadata": {},
   "outputs": [
    {
     "name": "stdout",
     "output_type": "stream",
     "text": [
      "<class 'pandas.core.frame.DataFrame'>\n",
      "RangeIndex: 9827 entries, 0 to 9826\n",
      "Data columns (total 9 columns):\n",
      " #   Column             Non-Null Count  Dtype  \n",
      "---  ------             --------------  -----  \n",
      " 0   Release_Date       9827 non-null   object \n",
      " 1   Title              9827 non-null   object \n",
      " 2   Overview           9827 non-null   object \n",
      " 3   Popularity         9827 non-null   float64\n",
      " 4   Vote_Count         9827 non-null   int64  \n",
      " 5   Vote_Average       9827 non-null   float64\n",
      " 6   Original_Language  9827 non-null   object \n",
      " 7   Genre              9827 non-null   object \n",
      " 8   Poster_Url         9827 non-null   object \n",
      "dtypes: float64(2), int64(1), object(6)\n",
      "memory usage: 691.1+ KB\n"
     ]
    }
   ],
   "source": [
    "df.info()"
   ]
  },
  {
   "cell_type": "code",
   "execution_count": 61,
   "id": "0e259871",
   "metadata": {},
   "outputs": [
    {
     "data": {
      "text/plain": [
       "Release_Date          object\n",
       "Title                 object\n",
       "Popularity           float64\n",
       "Vote_Count             int64\n",
       "Vote_Average         float64\n",
       "Original_Language     object\n",
       "Genre                 object\n",
       "Publish Year           int64\n",
       "dtype: object"
      ]
     },
     "execution_count": 61,
     "metadata": {},
     "output_type": "execute_result"
    }
   ],
   "source": [
    "df.dtypes"
   ]
  },
  {
   "cell_type": "code",
   "execution_count": 6,
   "id": "a5910a21",
   "metadata": {},
   "outputs": [
    {
     "data": {
      "text/html": [
       "<div>\n",
       "<style scoped>\n",
       "    .dataframe tbody tr th:only-of-type {\n",
       "        vertical-align: middle;\n",
       "    }\n",
       "\n",
       "    .dataframe tbody tr th {\n",
       "        vertical-align: top;\n",
       "    }\n",
       "\n",
       "    .dataframe thead th {\n",
       "        text-align: right;\n",
       "    }\n",
       "</style>\n",
       "<table border=\"1\" class=\"dataframe\">\n",
       "  <thead>\n",
       "    <tr style=\"text-align: right;\">\n",
       "      <th></th>\n",
       "      <th>Popularity</th>\n",
       "      <th>Vote_Count</th>\n",
       "      <th>Vote_Average</th>\n",
       "    </tr>\n",
       "  </thead>\n",
       "  <tbody>\n",
       "    <tr>\n",
       "      <th>count</th>\n",
       "      <td>9827.000000</td>\n",
       "      <td>9827.000000</td>\n",
       "      <td>9827.000000</td>\n",
       "    </tr>\n",
       "    <tr>\n",
       "      <th>mean</th>\n",
       "      <td>40.326088</td>\n",
       "      <td>1392.805536</td>\n",
       "      <td>6.439534</td>\n",
       "    </tr>\n",
       "    <tr>\n",
       "      <th>std</th>\n",
       "      <td>108.873998</td>\n",
       "      <td>2611.206907</td>\n",
       "      <td>1.129759</td>\n",
       "    </tr>\n",
       "    <tr>\n",
       "      <th>min</th>\n",
       "      <td>13.354000</td>\n",
       "      <td>0.000000</td>\n",
       "      <td>0.000000</td>\n",
       "    </tr>\n",
       "    <tr>\n",
       "      <th>25%</th>\n",
       "      <td>16.128500</td>\n",
       "      <td>146.000000</td>\n",
       "      <td>5.900000</td>\n",
       "    </tr>\n",
       "    <tr>\n",
       "      <th>50%</th>\n",
       "      <td>21.199000</td>\n",
       "      <td>444.000000</td>\n",
       "      <td>6.500000</td>\n",
       "    </tr>\n",
       "    <tr>\n",
       "      <th>75%</th>\n",
       "      <td>35.191500</td>\n",
       "      <td>1376.000000</td>\n",
       "      <td>7.100000</td>\n",
       "    </tr>\n",
       "    <tr>\n",
       "      <th>max</th>\n",
       "      <td>5083.954000</td>\n",
       "      <td>31077.000000</td>\n",
       "      <td>10.000000</td>\n",
       "    </tr>\n",
       "  </tbody>\n",
       "</table>\n",
       "</div>"
      ],
      "text/plain": [
       "        Popularity    Vote_Count  Vote_Average\n",
       "count  9827.000000   9827.000000   9827.000000\n",
       "mean     40.326088   1392.805536      6.439534\n",
       "std     108.873998   2611.206907      1.129759\n",
       "min      13.354000      0.000000      0.000000\n",
       "25%      16.128500    146.000000      5.900000\n",
       "50%      21.199000    444.000000      6.500000\n",
       "75%      35.191500   1376.000000      7.100000\n",
       "max    5083.954000  31077.000000     10.000000"
      ]
     },
     "execution_count": 6,
     "metadata": {},
     "output_type": "execute_result"
    }
   ],
   "source": [
    "df.describe()"
   ]
  },
  {
   "cell_type": "code",
   "execution_count": 7,
   "id": "4b3aa665",
   "metadata": {},
   "outputs": [
    {
     "data": {
      "text/plain": [
       "Release_Date         0\n",
       "Title                0\n",
       "Overview             0\n",
       "Popularity           0\n",
       "Vote_Count           0\n",
       "Vote_Average         0\n",
       "Original_Language    0\n",
       "Genre                0\n",
       "Poster_Url           0\n",
       "dtype: int64"
      ]
     },
     "execution_count": 7,
     "metadata": {},
     "output_type": "execute_result"
    }
   ],
   "source": [
    "df.isnull().sum()"
   ]
  },
  {
   "cell_type": "code",
   "execution_count": 8,
   "id": "b97559ef",
   "metadata": {},
   "outputs": [
    {
     "data": {
      "text/plain": [
       "0"
      ]
     },
     "execution_count": 8,
     "metadata": {},
     "output_type": "execute_result"
    }
   ],
   "source": [
    "df.duplicated().sum()"
   ]
  },
  {
   "cell_type": "markdown",
   "id": "f049dc44",
   "metadata": {},
   "source": [
    "## Data Cleaning"
   ]
  },
  {
   "cell_type": "markdown",
   "id": "efd2c3f6",
   "metadata": {},
   "source": [
    "Exract the years from the release date column and insert it into a new column 'Publish Year'"
   ]
  },
  {
   "cell_type": "code",
   "execution_count": 9,
   "id": "0b8605bf",
   "metadata": {},
   "outputs": [],
   "source": [
    "df['Publish Year']=pd.to_datetime(df['Release_Date']).dt.year"
   ]
  },
  {
   "cell_type": "code",
   "execution_count": 10,
   "id": "a036d610",
   "metadata": {},
   "outputs": [
    {
     "data": {
      "text/html": [
       "<div>\n",
       "<style scoped>\n",
       "    .dataframe tbody tr th:only-of-type {\n",
       "        vertical-align: middle;\n",
       "    }\n",
       "\n",
       "    .dataframe tbody tr th {\n",
       "        vertical-align: top;\n",
       "    }\n",
       "\n",
       "    .dataframe thead th {\n",
       "        text-align: right;\n",
       "    }\n",
       "</style>\n",
       "<table border=\"1\" class=\"dataframe\">\n",
       "  <thead>\n",
       "    <tr style=\"text-align: right;\">\n",
       "      <th></th>\n",
       "      <th>Release_Date</th>\n",
       "      <th>Title</th>\n",
       "      <th>Overview</th>\n",
       "      <th>Popularity</th>\n",
       "      <th>Vote_Count</th>\n",
       "      <th>Vote_Average</th>\n",
       "      <th>Original_Language</th>\n",
       "      <th>Genre</th>\n",
       "      <th>Poster_Url</th>\n",
       "      <th>Publish Year</th>\n",
       "    </tr>\n",
       "  </thead>\n",
       "  <tbody>\n",
       "    <tr>\n",
       "      <th>0</th>\n",
       "      <td>2021-12-15</td>\n",
       "      <td>Spider-Man: No Way Home</td>\n",
       "      <td>Peter Parker is unmasked and no longer able to...</td>\n",
       "      <td>5083.954</td>\n",
       "      <td>8940</td>\n",
       "      <td>8.3</td>\n",
       "      <td>en</td>\n",
       "      <td>Action, Adventure, Science Fiction</td>\n",
       "      <td>https://image.tmdb.org/t/p/original/1g0dhYtq4i...</td>\n",
       "      <td>2021</td>\n",
       "    </tr>\n",
       "    <tr>\n",
       "      <th>1</th>\n",
       "      <td>2022-03-01</td>\n",
       "      <td>The Batman</td>\n",
       "      <td>In his second year of fighting crime, Batman u...</td>\n",
       "      <td>3827.658</td>\n",
       "      <td>1151</td>\n",
       "      <td>8.1</td>\n",
       "      <td>en</td>\n",
       "      <td>Crime, Mystery, Thriller</td>\n",
       "      <td>https://image.tmdb.org/t/p/original/74xTEgt7R3...</td>\n",
       "      <td>2022</td>\n",
       "    </tr>\n",
       "    <tr>\n",
       "      <th>2</th>\n",
       "      <td>2022-02-25</td>\n",
       "      <td>No Exit</td>\n",
       "      <td>Stranded at a rest stop in the mountains durin...</td>\n",
       "      <td>2618.087</td>\n",
       "      <td>122</td>\n",
       "      <td>6.3</td>\n",
       "      <td>en</td>\n",
       "      <td>Thriller</td>\n",
       "      <td>https://image.tmdb.org/t/p/original/vDHsLnOWKl...</td>\n",
       "      <td>2022</td>\n",
       "    </tr>\n",
       "    <tr>\n",
       "      <th>3</th>\n",
       "      <td>2021-11-24</td>\n",
       "      <td>Encanto</td>\n",
       "      <td>The tale of an extraordinary family, the Madri...</td>\n",
       "      <td>2402.201</td>\n",
       "      <td>5076</td>\n",
       "      <td>7.7</td>\n",
       "      <td>en</td>\n",
       "      <td>Animation, Comedy, Family, Fantasy</td>\n",
       "      <td>https://image.tmdb.org/t/p/original/4j0PNHkMr5...</td>\n",
       "      <td>2021</td>\n",
       "    </tr>\n",
       "    <tr>\n",
       "      <th>4</th>\n",
       "      <td>2021-12-22</td>\n",
       "      <td>The King's Man</td>\n",
       "      <td>As a collection of history's worst tyrants and...</td>\n",
       "      <td>1895.511</td>\n",
       "      <td>1793</td>\n",
       "      <td>7.0</td>\n",
       "      <td>en</td>\n",
       "      <td>Action, Adventure, Thriller, War</td>\n",
       "      <td>https://image.tmdb.org/t/p/original/aq4Pwv5Xeu...</td>\n",
       "      <td>2021</td>\n",
       "    </tr>\n",
       "  </tbody>\n",
       "</table>\n",
       "</div>"
      ],
      "text/plain": [
       "  Release_Date                    Title  \\\n",
       "0   2021-12-15  Spider-Man: No Way Home   \n",
       "1   2022-03-01               The Batman   \n",
       "2   2022-02-25                  No Exit   \n",
       "3   2021-11-24                  Encanto   \n",
       "4   2021-12-22           The King's Man   \n",
       "\n",
       "                                            Overview  Popularity  Vote_Count  \\\n",
       "0  Peter Parker is unmasked and no longer able to...    5083.954        8940   \n",
       "1  In his second year of fighting crime, Batman u...    3827.658        1151   \n",
       "2  Stranded at a rest stop in the mountains durin...    2618.087         122   \n",
       "3  The tale of an extraordinary family, the Madri...    2402.201        5076   \n",
       "4  As a collection of history's worst tyrants and...    1895.511        1793   \n",
       "\n",
       "   Vote_Average Original_Language                               Genre  \\\n",
       "0           8.3                en  Action, Adventure, Science Fiction   \n",
       "1           8.1                en            Crime, Mystery, Thriller   \n",
       "2           6.3                en                            Thriller   \n",
       "3           7.7                en  Animation, Comedy, Family, Fantasy   \n",
       "4           7.0                en    Action, Adventure, Thriller, War   \n",
       "\n",
       "                                          Poster_Url  Publish Year  \n",
       "0  https://image.tmdb.org/t/p/original/1g0dhYtq4i...          2021  \n",
       "1  https://image.tmdb.org/t/p/original/74xTEgt7R3...          2022  \n",
       "2  https://image.tmdb.org/t/p/original/vDHsLnOWKl...          2022  \n",
       "3  https://image.tmdb.org/t/p/original/4j0PNHkMr5...          2021  \n",
       "4  https://image.tmdb.org/t/p/original/aq4Pwv5Xeu...          2021  "
      ]
     },
     "execution_count": 10,
     "metadata": {},
     "output_type": "execute_result"
    }
   ],
   "source": [
    "df.head()"
   ]
  },
  {
   "cell_type": "markdown",
   "id": "48a7a0b9",
   "metadata": {},
   "source": [
    "### Drop the URL Posters column "
   ]
  },
  {
   "cell_type": "code",
   "execution_count": 11,
   "id": "9611b9af",
   "metadata": {},
   "outputs": [
    {
     "data": {
      "text/html": [
       "<div>\n",
       "<style scoped>\n",
       "    .dataframe tbody tr th:only-of-type {\n",
       "        vertical-align: middle;\n",
       "    }\n",
       "\n",
       "    .dataframe tbody tr th {\n",
       "        vertical-align: top;\n",
       "    }\n",
       "\n",
       "    .dataframe thead th {\n",
       "        text-align: right;\n",
       "    }\n",
       "</style>\n",
       "<table border=\"1\" class=\"dataframe\">\n",
       "  <thead>\n",
       "    <tr style=\"text-align: right;\">\n",
       "      <th></th>\n",
       "      <th>Release_Date</th>\n",
       "      <th>Title</th>\n",
       "      <th>Overview</th>\n",
       "      <th>Popularity</th>\n",
       "      <th>Vote_Count</th>\n",
       "      <th>Vote_Average</th>\n",
       "      <th>Original_Language</th>\n",
       "      <th>Genre</th>\n",
       "      <th>Publish Year</th>\n",
       "    </tr>\n",
       "  </thead>\n",
       "  <tbody>\n",
       "    <tr>\n",
       "      <th>0</th>\n",
       "      <td>2021-12-15</td>\n",
       "      <td>Spider-Man: No Way Home</td>\n",
       "      <td>Peter Parker is unmasked and no longer able to...</td>\n",
       "      <td>5083.954</td>\n",
       "      <td>8940</td>\n",
       "      <td>8.3</td>\n",
       "      <td>en</td>\n",
       "      <td>Action, Adventure, Science Fiction</td>\n",
       "      <td>2021</td>\n",
       "    </tr>\n",
       "  </tbody>\n",
       "</table>\n",
       "</div>"
      ],
      "text/plain": [
       "  Release_Date                    Title  \\\n",
       "0   2021-12-15  Spider-Man: No Way Home   \n",
       "\n",
       "                                            Overview  Popularity  Vote_Count  \\\n",
       "0  Peter Parker is unmasked and no longer able to...    5083.954        8940   \n",
       "\n",
       "   Vote_Average Original_Language                               Genre  \\\n",
       "0           8.3                en  Action, Adventure, Science Fiction   \n",
       "\n",
       "   Publish Year  \n",
       "0          2021  "
      ]
     },
     "execution_count": 11,
     "metadata": {},
     "output_type": "execute_result"
    }
   ],
   "source": [
    "df.drop(labels='Poster_Url', axis=1, inplace=True)\n",
    "df.head(1)"
   ]
  },
  {
   "cell_type": "markdown",
   "id": "12a47f0a",
   "metadata": {},
   "source": [
    "### Drop the Overview column"
   ]
  },
  {
   "cell_type": "code",
   "execution_count": 15,
   "id": "273f8422",
   "metadata": {},
   "outputs": [
    {
     "data": {
      "text/html": [
       "<div>\n",
       "<style scoped>\n",
       "    .dataframe tbody tr th:only-of-type {\n",
       "        vertical-align: middle;\n",
       "    }\n",
       "\n",
       "    .dataframe tbody tr th {\n",
       "        vertical-align: top;\n",
       "    }\n",
       "\n",
       "    .dataframe thead th {\n",
       "        text-align: right;\n",
       "    }\n",
       "</style>\n",
       "<table border=\"1\" class=\"dataframe\">\n",
       "  <thead>\n",
       "    <tr style=\"text-align: right;\">\n",
       "      <th></th>\n",
       "      <th>Release_Date</th>\n",
       "      <th>Title</th>\n",
       "      <th>Popularity</th>\n",
       "      <th>Vote_Count</th>\n",
       "      <th>Vote_Average</th>\n",
       "      <th>Original_Language</th>\n",
       "      <th>Genre</th>\n",
       "      <th>Publish Year</th>\n",
       "    </tr>\n",
       "  </thead>\n",
       "  <tbody>\n",
       "    <tr>\n",
       "      <th>0</th>\n",
       "      <td>2021-12-15</td>\n",
       "      <td>Spider-Man: No Way Home</td>\n",
       "      <td>5083.954</td>\n",
       "      <td>8940</td>\n",
       "      <td>8.3</td>\n",
       "      <td>en</td>\n",
       "      <td>Action</td>\n",
       "      <td>2021</td>\n",
       "    </tr>\n",
       "  </tbody>\n",
       "</table>\n",
       "</div>"
      ],
      "text/plain": [
       "  Release_Date                    Title  Popularity  Vote_Count  Vote_Average  \\\n",
       "0   2021-12-15  Spider-Man: No Way Home    5083.954        8940           8.3   \n",
       "\n",
       "  Original_Language   Genre  Publish Year  \n",
       "0                en  Action          2021  "
      ]
     },
     "execution_count": 15,
     "metadata": {},
     "output_type": "execute_result"
    }
   ],
   "source": [
    "df.drop(labels='Overview', axis=1, inplace=True)\n",
    "df.head(1)"
   ]
  },
  {
   "cell_type": "markdown",
   "id": "8682e09a",
   "metadata": {},
   "source": [
    "## Work on the Genre column"
   ]
  },
  {
   "cell_type": "markdown",
   "id": "0ce2ba69",
   "metadata": {},
   "source": [
    "   ### Split the genres initially"
   ]
  },
  {
   "cell_type": "code",
   "execution_count": 12,
   "id": "1577caef",
   "metadata": {},
   "outputs": [
    {
     "data": {
      "text/plain": [
       "Drama                                            466\n",
       "Comedy                                           403\n",
       "Drama, Romance                                   248\n",
       "Horror                                           238\n",
       "Horror, Thriller                                 199\n",
       "                                                ... \n",
       "Drama, Horror, Thriller, Science Fiction           1\n",
       "Action, Science Fiction, Animation, Adventure      1\n",
       "Comedy, Fantasy, Horror, Science Fiction           1\n",
       "Drama, Science Fiction, Animation                  1\n",
       "War, Drama, Science Fiction                        1\n",
       "Name: Genre, Length: 2337, dtype: int64"
      ]
     },
     "execution_count": 12,
     "metadata": {},
     "output_type": "execute_result"
    }
   ],
   "source": [
    "counts= df['Genre'].value_counts()\n",
    "counts"
   ]
  },
  {
   "cell_type": "code",
   "execution_count": 13,
   "id": "860d80f8",
   "metadata": {},
   "outputs": [
    {
     "data": {
      "text/plain": [
       "array(['Action', 'Crime', 'Thriller', 'Animation', 'Horror',\n",
       "       'Science Fiction', 'Fantasy', 'Romance', 'Drama', 'Western',\n",
       "       'Family', 'Comedy', 'Adventure', 'Mystery', 'TV Movie',\n",
       "       'Documentary', 'War', 'Music', 'History'], dtype=object)"
      ]
     },
     "execution_count": 13,
     "metadata": {},
     "output_type": "execute_result"
    }
   ],
   "source": [
    "df[\"Genre\"]= df[\"Genre\"].str.split(',').str[0]\n",
    "df[\"Genre\"].unique()"
   ]
  },
  {
   "cell_type": "code",
   "execution_count": 14,
   "id": "3bf31145",
   "metadata": {},
   "outputs": [
    {
     "data": {
      "text/html": [
       "<div>\n",
       "<style scoped>\n",
       "    .dataframe tbody tr th:only-of-type {\n",
       "        vertical-align: middle;\n",
       "    }\n",
       "\n",
       "    .dataframe tbody tr th {\n",
       "        vertical-align: top;\n",
       "    }\n",
       "\n",
       "    .dataframe thead th {\n",
       "        text-align: right;\n",
       "    }\n",
       "</style>\n",
       "<table border=\"1\" class=\"dataframe\">\n",
       "  <thead>\n",
       "    <tr style=\"text-align: right;\">\n",
       "      <th></th>\n",
       "      <th>Release_Date</th>\n",
       "      <th>Title</th>\n",
       "      <th>Overview</th>\n",
       "      <th>Popularity</th>\n",
       "      <th>Vote_Count</th>\n",
       "      <th>Vote_Average</th>\n",
       "      <th>Original_Language</th>\n",
       "      <th>Genre</th>\n",
       "      <th>Publish Year</th>\n",
       "    </tr>\n",
       "  </thead>\n",
       "  <tbody>\n",
       "    <tr>\n",
       "      <th>0</th>\n",
       "      <td>2021-12-15</td>\n",
       "      <td>Spider-Man: No Way Home</td>\n",
       "      <td>Peter Parker is unmasked and no longer able to...</td>\n",
       "      <td>5083.954</td>\n",
       "      <td>8940</td>\n",
       "      <td>8.3</td>\n",
       "      <td>en</td>\n",
       "      <td>Action</td>\n",
       "      <td>2021</td>\n",
       "    </tr>\n",
       "    <tr>\n",
       "      <th>1</th>\n",
       "      <td>2022-03-01</td>\n",
       "      <td>The Batman</td>\n",
       "      <td>In his second year of fighting crime, Batman u...</td>\n",
       "      <td>3827.658</td>\n",
       "      <td>1151</td>\n",
       "      <td>8.1</td>\n",
       "      <td>en</td>\n",
       "      <td>Crime</td>\n",
       "      <td>2022</td>\n",
       "    </tr>\n",
       "    <tr>\n",
       "      <th>2</th>\n",
       "      <td>2022-02-25</td>\n",
       "      <td>No Exit</td>\n",
       "      <td>Stranded at a rest stop in the mountains durin...</td>\n",
       "      <td>2618.087</td>\n",
       "      <td>122</td>\n",
       "      <td>6.3</td>\n",
       "      <td>en</td>\n",
       "      <td>Thriller</td>\n",
       "      <td>2022</td>\n",
       "    </tr>\n",
       "    <tr>\n",
       "      <th>3</th>\n",
       "      <td>2021-11-24</td>\n",
       "      <td>Encanto</td>\n",
       "      <td>The tale of an extraordinary family, the Madri...</td>\n",
       "      <td>2402.201</td>\n",
       "      <td>5076</td>\n",
       "      <td>7.7</td>\n",
       "      <td>en</td>\n",
       "      <td>Animation</td>\n",
       "      <td>2021</td>\n",
       "    </tr>\n",
       "    <tr>\n",
       "      <th>4</th>\n",
       "      <td>2021-12-22</td>\n",
       "      <td>The King's Man</td>\n",
       "      <td>As a collection of history's worst tyrants and...</td>\n",
       "      <td>1895.511</td>\n",
       "      <td>1793</td>\n",
       "      <td>7.0</td>\n",
       "      <td>en</td>\n",
       "      <td>Action</td>\n",
       "      <td>2021</td>\n",
       "    </tr>\n",
       "  </tbody>\n",
       "</table>\n",
       "</div>"
      ],
      "text/plain": [
       "  Release_Date                    Title  \\\n",
       "0   2021-12-15  Spider-Man: No Way Home   \n",
       "1   2022-03-01               The Batman   \n",
       "2   2022-02-25                  No Exit   \n",
       "3   2021-11-24                  Encanto   \n",
       "4   2021-12-22           The King's Man   \n",
       "\n",
       "                                            Overview  Popularity  Vote_Count  \\\n",
       "0  Peter Parker is unmasked and no longer able to...    5083.954        8940   \n",
       "1  In his second year of fighting crime, Batman u...    3827.658        1151   \n",
       "2  Stranded at a rest stop in the mountains durin...    2618.087         122   \n",
       "3  The tale of an extraordinary family, the Madri...    2402.201        5076   \n",
       "4  As a collection of history's worst tyrants and...    1895.511        1793   \n",
       "\n",
       "   Vote_Average Original_Language      Genre  Publish Year  \n",
       "0           8.3                en     Action          2021  \n",
       "1           8.1                en      Crime          2022  \n",
       "2           6.3                en   Thriller          2022  \n",
       "3           7.7                en  Animation          2021  \n",
       "4           7.0                en     Action          2021  "
      ]
     },
     "execution_count": 14,
     "metadata": {},
     "output_type": "execute_result"
    }
   ],
   "source": [
    "df.head()"
   ]
  },
  {
   "cell_type": "code",
   "execution_count": 17,
   "id": "b55faebe",
   "metadata": {},
   "outputs": [
    {
     "data": {
      "text/plain": [
       "6.4     435\n",
       "6.3     429\n",
       "6.5     427\n",
       "6.8     423\n",
       "6.7     420\n",
       "       ... \n",
       "2.2       1\n",
       "9.2       1\n",
       "1.5       1\n",
       "3.1       1\n",
       "10.0      1\n",
       "Name: Vote_Average, Length: 74, dtype: int64"
      ]
     },
     "execution_count": 17,
     "metadata": {},
     "output_type": "execute_result"
    }
   ],
   "source": [
    "votes=df['Vote_Average'].value_counts()\n",
    "votes"
   ]
  },
  {
   "cell_type": "markdown",
   "id": "a139c659",
   "metadata": {},
   "source": [
    "# Data Visualization"
   ]
  },
  {
   "cell_type": "markdown",
   "id": "3a55865c",
   "metadata": {},
   "source": [
    "## Visualize our data and answer our questions."
   ]
  },
  {
   "cell_type": "markdown",
   "id": "6d7485dc",
   "metadata": {},
   "source": [
    "### Q1(1) -Which year had the most published movies?"
   ]
  },
  {
   "cell_type": "code",
   "execution_count": 64,
   "id": "7797122c",
   "metadata": {},
   "outputs": [],
   "source": [
    "sns.set_style('white')"
   ]
  },
  {
   "cell_type": "code",
   "execution_count": 65,
   "id": "da71f9a2",
   "metadata": {},
   "outputs": [
    {
     "data": {
      "text/plain": [
       "<AxesSubplot:title={'center':'Publish Year'}>"
      ]
     },
     "execution_count": 65,
     "metadata": {},
     "output_type": "execute_result"
    },
    {
     "data": {
      "image/png": "[encoded data removed]",
      "text/plain": [
       "<Figure size 1440x648 with 1 Axes>"
      ]
     },
     "metadata": {},
     "output_type": "display_data"
    }
   ],
   "source": [
    "df['Publish Year'].value_counts()[:50].plot(kind='bar', title='Publish Year', figsize=(20,9))"
   ]
  },
  {
   "cell_type": "markdown",
   "id": "36a85609",
   "metadata": {},
   "source": [
    "### The answer is the year 2021."
   ]
  },
  {
   "cell_type": "markdown",
   "id": "1b928243",
   "metadata": {},
   "source": [
    "### Q1(2) -Which year had the least published movies?"
   ]
  },
  {
   "cell_type": "markdown",
   "id": "4b3f91af",
   "metadata": {},
   "source": [
    "### The answer is the year 1967."
   ]
  },
  {
   "cell_type": "markdown",
   "id": "6dba398e",
   "metadata": {},
   "source": [
    "### Q2- Which genre has the highest number of movies?"
   ]
  },
  {
   "cell_type": "code",
   "execution_count": 74,
   "id": "afcc75c6",
   "metadata": {},
   "outputs": [
    {
     "data": {
      "image/png": "[encoded data removed]",
      "text/plain": [
       "<Figure size 1440x648 with 1 Axes>"
      ]
     },
     "metadata": {},
     "output_type": "display_data"
    }
   ],
   "source": [
    "df['Genre'].value_counts().plot(kind = 'barh', title = 'Genres', figsize=(20,9))\n",
    "plt.gca().invert_yaxis()"
   ]
  },
  {
   "cell_type": "markdown",
   "id": "231daa5d",
   "metadata": {},
   "source": [
    "### The answer is the Drama genre."
   ]
  },
  {
   "cell_type": "markdown",
   "id": "c640741e",
   "metadata": {},
   "source": [
    "### Q3(1) - Which movies had the biggest views? In other words, what movies were the most popular?"
   ]
  },
  {
   "cell_type": "code",
   "execution_count": 22,
   "id": "97f1662f",
   "metadata": {},
   "outputs": [
    {
     "data": {
      "text/plain": [
       "0    5083.954\n",
       "1    3827.658\n",
       "2    2618.087\n",
       "3    2402.201\n",
       "4    1895.511\n",
       "Name: Popularity, dtype: float64"
      ]
     },
     "execution_count": 22,
     "metadata": {},
     "output_type": "execute_result"
    }
   ],
   "source": [
    "most_popular=df['Popularity'].nlargest(n=5)\n",
    "most_popular"
   ]
  },
  {
   "cell_type": "code",
   "execution_count": 75,
   "id": "4f8a0622",
   "metadata": {},
   "outputs": [
    {
     "data": {
      "image/png": "[encoded data removed]",
      "text/plain": [
       "<Figure size 1080x720 with 1 Axes>"
      ]
     },
     "metadata": {},
     "output_type": "display_data"
    }
   ],
   "source": [
    "most_popular= df.sort_values('Popularity', ascending=False)\n",
    "plt.figure(figsize=(15,10))\n",
    "\n",
    "plt.barh(most_popular['Title'].head(10),most_popular['Popularity'].head(10))\n",
    "plt.gca().invert_yaxis()\n",
    "plt.xlabel(\"Popularity\")\n",
    "plt.title(\"Most Popular Movies\");"
   ]
  },
  {
   "cell_type": "markdown",
   "id": "93ed1623",
   "metadata": {},
   "source": [
    "### The top 5 movies are: Spider-Man: No Way Home, The Batman, No Exit, Encanto & The King's Man"
   ]
  },
  {
   "cell_type": "markdown",
   "id": "f17be55a",
   "metadata": {},
   "source": [
    "### Q3(2) - Which genre were those movies?"
   ]
  },
  {
   "cell_type": "code",
   "execution_count": 24,
   "id": "0279368e",
   "metadata": {},
   "outputs": [
    {
     "data": {
      "text/html": [
       "<div>\n",
       "<style scoped>\n",
       "    .dataframe tbody tr th:only-of-type {\n",
       "        vertical-align: middle;\n",
       "    }\n",
       "\n",
       "    .dataframe tbody tr th {\n",
       "        vertical-align: top;\n",
       "    }\n",
       "\n",
       "    .dataframe thead th {\n",
       "        text-align: right;\n",
       "    }\n",
       "</style>\n",
       "<table border=\"1\" class=\"dataframe\">\n",
       "  <thead>\n",
       "    <tr style=\"text-align: right;\">\n",
       "      <th></th>\n",
       "      <th>Title</th>\n",
       "      <th>Genre</th>\n",
       "    </tr>\n",
       "  </thead>\n",
       "  <tbody>\n",
       "    <tr>\n",
       "      <th>0</th>\n",
       "      <td>Spider-Man: No Way Home</td>\n",
       "      <td>Action</td>\n",
       "    </tr>\n",
       "    <tr>\n",
       "      <th>1</th>\n",
       "      <td>The Batman</td>\n",
       "      <td>Crime</td>\n",
       "    </tr>\n",
       "    <tr>\n",
       "      <th>2</th>\n",
       "      <td>No Exit</td>\n",
       "      <td>Thriller</td>\n",
       "    </tr>\n",
       "    <tr>\n",
       "      <th>3</th>\n",
       "      <td>Encanto</td>\n",
       "      <td>Animation</td>\n",
       "    </tr>\n",
       "    <tr>\n",
       "      <th>4</th>\n",
       "      <td>The King's Man</td>\n",
       "      <td>Action</td>\n",
       "    </tr>\n",
       "    <tr>\n",
       "      <th>5</th>\n",
       "      <td>The Commando</td>\n",
       "      <td>Action</td>\n",
       "    </tr>\n",
       "    <tr>\n",
       "      <th>6</th>\n",
       "      <td>Scream</td>\n",
       "      <td>Horror</td>\n",
       "    </tr>\n",
       "    <tr>\n",
       "      <th>7</th>\n",
       "      <td>Kimi</td>\n",
       "      <td>Thriller</td>\n",
       "    </tr>\n",
       "    <tr>\n",
       "      <th>8</th>\n",
       "      <td>Fistful of Vengeance</td>\n",
       "      <td>Action</td>\n",
       "    </tr>\n",
       "    <tr>\n",
       "      <th>9</th>\n",
       "      <td>Eternals</td>\n",
       "      <td>Science Fiction</td>\n",
       "    </tr>\n",
       "  </tbody>\n",
       "</table>\n",
       "</div>"
      ],
      "text/plain": [
       "                     Title            Genre\n",
       "0  Spider-Man: No Way Home           Action\n",
       "1               The Batman            Crime\n",
       "2                  No Exit         Thriller\n",
       "3                  Encanto        Animation\n",
       "4           The King's Man           Action\n",
       "5             The Commando           Action\n",
       "6                   Scream           Horror\n",
       "7                     Kimi         Thriller\n",
       "8     Fistful of Vengeance           Action\n",
       "9                 Eternals  Science Fiction"
      ]
     },
     "execution_count": 24,
     "metadata": {},
     "output_type": "execute_result"
    }
   ],
   "source": [
    "df[['Title','Genre']][:10]"
   ]
  },
  {
   "cell_type": "markdown",
   "id": "852675f0",
   "metadata": {},
   "source": [
    "### Q4- Which movies had the highest ratings?"
   ]
  },
  {
   "cell_type": "code",
   "execution_count": 25,
   "id": "50137b38",
   "metadata": {},
   "outputs": [
    {
     "data": {
      "text/html": [
       "<div>\n",
       "<style scoped>\n",
       "    .dataframe tbody tr th:only-of-type {\n",
       "        vertical-align: middle;\n",
       "    }\n",
       "\n",
       "    .dataframe tbody tr th {\n",
       "        vertical-align: top;\n",
       "    }\n",
       "\n",
       "    .dataframe thead th {\n",
       "        text-align: right;\n",
       "    }\n",
       "</style>\n",
       "<table border=\"1\" class=\"dataframe\">\n",
       "  <thead>\n",
       "    <tr style=\"text-align: right;\">\n",
       "      <th></th>\n",
       "      <th>Release_Date</th>\n",
       "      <th>Title</th>\n",
       "      <th>Popularity</th>\n",
       "      <th>Vote_Count</th>\n",
       "      <th>Vote_Average</th>\n",
       "      <th>Original_Language</th>\n",
       "      <th>Genre</th>\n",
       "      <th>Publish Year</th>\n",
       "    </tr>\n",
       "  </thead>\n",
       "  <tbody>\n",
       "    <tr>\n",
       "      <th>9391</th>\n",
       "      <td>2020-04-09</td>\n",
       "      <td>Kung Fu Master Huo Yuanjia</td>\n",
       "      <td>13.745</td>\n",
       "      <td>1</td>\n",
       "      <td>10.0</td>\n",
       "      <td>zh</td>\n",
       "      <td>Action</td>\n",
       "      <td>2020</td>\n",
       "    </tr>\n",
       "    <tr>\n",
       "      <th>7339</th>\n",
       "      <td>2018-06-08</td>\n",
       "      <td>Franco Escamilla: Por La Anécdota</td>\n",
       "      <td>16.158</td>\n",
       "      <td>92</td>\n",
       "      <td>9.2</td>\n",
       "      <td>es</td>\n",
       "      <td>Comedy</td>\n",
       "      <td>2018</td>\n",
       "    </tr>\n",
       "    <tr>\n",
       "      <th>667</th>\n",
       "      <td>2019-03-29</td>\n",
       "      <td>Demon Slayer: Kimetsu no Yaiba Sibling's Bond</td>\n",
       "      <td>86.689</td>\n",
       "      <td>27</td>\n",
       "      <td>9.1</td>\n",
       "      <td>ja</td>\n",
       "      <td>Action</td>\n",
       "      <td>2019</td>\n",
       "    </tr>\n",
       "    <tr>\n",
       "      <th>2325</th>\n",
       "      <td>2021-06-17</td>\n",
       "      <td>Impossible Things</td>\n",
       "      <td>36.466</td>\n",
       "      <td>82</td>\n",
       "      <td>9.1</td>\n",
       "      <td>es</td>\n",
       "      <td>Family</td>\n",
       "      <td>2021</td>\n",
       "    </tr>\n",
       "    <tr>\n",
       "      <th>7401</th>\n",
       "      <td>2020-10-30</td>\n",
       "      <td>My Sex Doll</td>\n",
       "      <td>16.088</td>\n",
       "      <td>4</td>\n",
       "      <td>9.0</td>\n",
       "      <td>th</td>\n",
       "      <td>Comedy</td>\n",
       "      <td>2020</td>\n",
       "    </tr>\n",
       "    <tr>\n",
       "      <th>7014</th>\n",
       "      <td>2018-05-16</td>\n",
       "      <td>Sex School: Dorms of Desire</td>\n",
       "      <td>16.683</td>\n",
       "      <td>1</td>\n",
       "      <td>9.0</td>\n",
       "      <td>en</td>\n",
       "      <td>Comedy</td>\n",
       "      <td>2018</td>\n",
       "    </tr>\n",
       "    <tr>\n",
       "      <th>6728</th>\n",
       "      <td>2021-11-18</td>\n",
       "      <td>Mission «Sky»</td>\n",
       "      <td>17.133</td>\n",
       "      <td>34</td>\n",
       "      <td>9.0</td>\n",
       "      <td>ru</td>\n",
       "      <td>Drama</td>\n",
       "      <td>2021</td>\n",
       "    </tr>\n",
       "    <tr>\n",
       "      <th>2391</th>\n",
       "      <td>2020-10-14</td>\n",
       "      <td>The Three Deaths of Marisela Escobedo</td>\n",
       "      <td>35.767</td>\n",
       "      <td>183</td>\n",
       "      <td>9.0</td>\n",
       "      <td>es</td>\n",
       "      <td>Documentary</td>\n",
       "      <td>2020</td>\n",
       "    </tr>\n",
       "    <tr>\n",
       "      <th>7039</th>\n",
       "      <td>2019-08-07</td>\n",
       "      <td>Bring the Soul: The Movie</td>\n",
       "      <td>16.652</td>\n",
       "      <td>323</td>\n",
       "      <td>8.9</td>\n",
       "      <td>ko</td>\n",
       "      <td>Music</td>\n",
       "      <td>2019</td>\n",
       "    </tr>\n",
       "    <tr>\n",
       "      <th>5069</th>\n",
       "      <td>2021-08-19</td>\n",
       "      <td>Ni tuyo, Ni mía</td>\n",
       "      <td>20.696</td>\n",
       "      <td>49</td>\n",
       "      <td>8.9</td>\n",
       "      <td>es</td>\n",
       "      <td>Drama</td>\n",
       "      <td>2021</td>\n",
       "    </tr>\n",
       "  </tbody>\n",
       "</table>\n",
       "</div>"
      ],
      "text/plain": [
       "     Release_Date                                          Title  Popularity  \\\n",
       "9391   2020-04-09                     Kung Fu Master Huo Yuanjia      13.745   \n",
       "7339   2018-06-08              Franco Escamilla: Por La Anécdota      16.158   \n",
       "667    2019-03-29  Demon Slayer: Kimetsu no Yaiba Sibling's Bond      86.689   \n",
       "2325   2021-06-17                              Impossible Things      36.466   \n",
       "7401   2020-10-30                                    My Sex Doll      16.088   \n",
       "7014   2018-05-16                    Sex School: Dorms of Desire      16.683   \n",
       "6728   2021-11-18                                  Mission «Sky»      17.133   \n",
       "2391   2020-10-14          The Three Deaths of Marisela Escobedo      35.767   \n",
       "7039   2019-08-07                      Bring the Soul: The Movie      16.652   \n",
       "5069   2021-08-19                                Ni tuyo, Ni mía      20.696   \n",
       "\n",
       "      Vote_Count  Vote_Average Original_Language        Genre  Publish Year  \n",
       "9391           1          10.0                zh       Action          2020  \n",
       "7339          92           9.2                es       Comedy          2018  \n",
       "667           27           9.1                ja       Action          2019  \n",
       "2325          82           9.1                es       Family          2021  \n",
       "7401           4           9.0                th       Comedy          2020  \n",
       "7014           1           9.0                en       Comedy          2018  \n",
       "6728          34           9.0                ru        Drama          2021  \n",
       "2391         183           9.0                es  Documentary          2020  \n",
       "7039         323           8.9                ko        Music          2019  \n",
       "5069          49           8.9                es        Drama          2021  "
      ]
     },
     "execution_count": 25,
     "metadata": {},
     "output_type": "execute_result"
    }
   ],
   "source": [
    "highest_ratings= df.sort_values('Vote_Average', ascending=False)\n",
    "highest_ratings.head(10)"
   ]
  },
  {
   "cell_type": "code",
   "execution_count": 26,
   "id": "81519a3a",
   "metadata": {},
   "outputs": [
    {
     "data": {
      "image/png": "[encoded data removed]",
      "text/plain": [
       "<Figure size 1080x720 with 1 Axes>"
      ]
     },
     "metadata": {},
     "output_type": "display_data"
    }
   ],
   "source": [
    "highest_ratings= df.sort_values('Vote_Average', ascending=False)\n",
    "plt.figure(figsize=(15,10))\n",
    "\n",
    "plt.barh(highest_ratings['Title'].head(10),highest_ratings['Vote_Average'].head(10))\n",
    "plt.gca().invert_yaxis()\n",
    "plt.xlabel(\"Movie Titles\")\n",
    "plt.title(\"Highest Rated Movies\");"
   ]
  },
  {
   "cell_type": "markdown",
   "id": "f3a79add",
   "metadata": {},
   "source": [
    "### Q5- What are the most popular movie languages?"
   ]
  },
  {
   "cell_type": "code",
   "execution_count": 27,
   "id": "5f3e2d0d",
   "metadata": {},
   "outputs": [
    {
     "data": {
      "text/plain": [
       "en    7570\n",
       "ja     645\n",
       "es     339\n",
       "fr     292\n",
       "ko     170\n",
       "zh     129\n",
       "it     123\n",
       "cn     109\n",
       "ru      83\n",
       "de      82\n",
       "pt      37\n",
       "da      28\n",
       "no      26\n",
       "hi      26\n",
       "sv      23\n",
       "nl      21\n",
       "pl      17\n",
       "th      17\n",
       "id      15\n",
       "tr      15\n",
       "tl       8\n",
       "te       6\n",
       "el       5\n",
       "fi       5\n",
       "sr       5\n",
       "cs       4\n",
       "fa       3\n",
       "hu       3\n",
       "is       2\n",
       "ro       2\n",
       "uk       2\n",
       "ta       2\n",
       "ar       2\n",
       "he       2\n",
       "ca       1\n",
       "la       1\n",
       "nb       1\n",
       "bn       1\n",
       "ms       1\n",
       "lv       1\n",
       "eu       1\n",
       "ml       1\n",
       "et       1\n",
       "Name: Original_Language, dtype: int64"
      ]
     },
     "execution_count": 27,
     "metadata": {},
     "output_type": "execute_result"
    }
   ],
   "source": [
    "df['Original_Language'].value_counts()"
   ]
  },
  {
   "cell_type": "markdown",
   "id": "241be97b",
   "metadata": {},
   "source": [
    "### We see from the output above that English is the most popular movie language, followed by Japanese, Spanish, French and Korean.\n"
   ]
  },
  {
   "cell_type": "code",
   "execution_count": 59,
   "id": "9e93773c",
   "metadata": {},
   "outputs": [
    {
     "data": {
      "text/plain": [
       "en       7570\n",
       "Other     682\n",
       "ja        645\n",
       "es        339\n",
       "fr        292\n",
       "ko        170\n",
       "zh        129\n",
       "Name: Original_Language, dtype: int64"
      ]
     },
     "execution_count": 59,
     "metadata": {},
     "output_type": "execute_result"
    }
   ],
   "source": [
    "df['Original_Language'].value_counts()"
   ]
  },
  {
   "cell_type": "markdown",
   "id": "035f8b44",
   "metadata": {},
   "source": [
    "### The Movie Languages Visualization of the top Languages."
   ]
  },
  {
   "cell_type": "code",
   "execution_count": 60,
   "id": "cdf72fd5",
   "metadata": {},
   "outputs": [
    {
     "data": {
      "image/png": "[encoded data removed]",
      "text/plain": [
       "<Figure size 432x288 with 1 Axes>"
      ]
     },
     "metadata": {},
     "output_type": "display_data"
    }
   ],
   "source": [
    "plt.pie(df['Original_Language'].value_counts(),labels=df['Original_Language'].value_counts().index)\n",
    "plt.show()"
   ]
  },
  {
   "cell_type": "markdown",
   "id": "0830a6c0",
   "metadata": {},
   "source": [
    "### As seen here, the English language is the most frequent."
   ]
  },
  {
   "cell_type": "markdown",
   "id": "eafcca77",
   "metadata": {},
   "source": [
    "# THE END"
   ]
  }
 ],
 "metadata": {
  "kernelspec": {
   "display_name": "Python 3 (ipykernel)",
   "language": "python",
   "name": "python3"
  },
  "language_info": {
   "codemirror_mode": {
    "name": "ipython",
    "version": 3
   },
   "file_extension": ".py",
   "mimetype": "text/x-python",
   "name": "python",
   "nbconvert_exporter": "python",
   "pygments_lexer": "ipython3",
   "version": "3.9.12"
  }
 },
 "nbformat": 4,
 "nbformat_minor": 5
}
